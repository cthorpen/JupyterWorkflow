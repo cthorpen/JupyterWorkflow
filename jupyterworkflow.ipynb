{
 "cells": [
  {
   "cell_type": "markdown",
   "id": "ce312c75",
   "metadata": {},
   "source": [
    "# Jupyer Data Science Workflow\n",
    "\n",
    "### From EDA to Reproducible Science\n",
    "\n",
    "\n",
    "Cole Thorpen\n",
    "February 28, 2024\n",
    "\n",
    "University of Washington Information School\n",
    "IMT 573"
   ]
  },
  {
   "cell_type": "code",
   "execution_count": 1,
   "id": "f1907dbd",
   "metadata": {},
   "outputs": [],
   "source": [
    "%matplotlib inline\n",
    "import matplotlib.pyplot as plt\n",
    "plt.style.use('seaborn')"
   ]
  },
  {
   "cell_type": "code",
   "execution_count": 2,
   "id": "69438412",
   "metadata": {},
   "outputs": [
    {
     "ename": "ModuleNotFoundError",
     "evalue": "No module named 'jupyter_workflow'",
     "output_type": "error",
     "traceback": [
      "\u001b[0;31m---------------------------------------------------------------------------\u001b[0m",
      "\u001b[0;31mModuleNotFoundError\u001b[0m                       Traceback (most recent call last)",
      "\u001b[0;32m/var/folders/2l/_lh657pn203drgjhdnb4c8gc0000gn/T/ipykernel_91120/3524132068.py\u001b[0m in \u001b[0;36m<module>\u001b[0;34m\u001b[0m\n\u001b[1;32m     13\u001b[0m \u001b[0;31m#     return data\u001b[0m\u001b[0;34m\u001b[0m\u001b[0;34m\u001b[0m\u001b[0m\n\u001b[1;32m     14\u001b[0m \u001b[0;34m\u001b[0m\u001b[0m\n\u001b[0;32m---> 15\u001b[0;31m \u001b[0;32mfrom\u001b[0m \u001b[0mjupyter_workflow\u001b[0m\u001b[0;34m.\u001b[0m\u001b[0mdata\u001b[0m \u001b[0;32mimport\u001b[0m \u001b[0mget_fremont_data\u001b[0m\u001b[0;34m\u001b[0m\u001b[0;34m\u001b[0m\u001b[0m\n\u001b[0m",
      "\u001b[0;31mModuleNotFoundError\u001b[0m: No module named 'jupyter_workflow'"
     ]
    }
   ],
   "source": [
    "# import os\n",
    "# from urllib.request import urlretrieve\n",
    "\n",
    "# import pandas as pd\n",
    "\n",
    "# URL = 'https://data.seattle.gov/resource/65db-xm6k.csv$limit=50000'\n",
    "\n",
    "# def get_fremont_data(filename='Fremont.csv', url=URL, force_download=False):\n",
    "#     if force_download or not os.path.exists(filename):\n",
    "#         urlretrieve(url, filename)\n",
    "#     data = pd.read_csv('Fremont.csv', index_col='date', parse_dates=True)\n",
    "#     data.columns = ['Total', 'Northbound', 'Southbound']\n",
    "#     return data\n",
    "\n",
    "from jupyter_workflow.data import get_fremont_data"
   ]
  },
  {
   "cell_type": "markdown",
   "id": "609a1931",
   "metadata": {},
   "source": [
    "Go here to learn how to fix limit of rows returned by the api: https://data.seattle.gov/Transportation/Fremont-Bridge-Bicycle-Counter/65db-xm6k/about_data"
   ]
  },
  {
   "cell_type": "code",
   "execution_count": null,
   "id": "c4761a61",
   "metadata": {},
   "outputs": [],
   "source": [
    "data = get_fremont_data()\n",
    "data.head()"
   ]
  },
  {
   "cell_type": "code",
   "execution_count": null,
   "id": "865152d1",
   "metadata": {},
   "outputs": [],
   "source": [
    "data.resample('W').sum().plot()"
   ]
  },
  {
   "cell_type": "code",
   "execution_count": null,
   "id": "da10d391",
   "metadata": {},
   "outputs": [],
   "source": [
    "data.groupby(data.index.time).mean().plot()"
   ]
  },
  {
   "cell_type": "code",
   "execution_count": null,
   "id": "00dec8c1",
   "metadata": {},
   "outputs": [],
   "source": [
    "data.groupby(data.index.time).mean().plot()"
   ]
  },
  {
   "cell_type": "code",
   "execution_count": null,
   "id": "4154604e",
   "metadata": {},
   "outputs": [],
   "source": [
    "pivoted = data.pivot_table('Total', index=data.index.time, columns=data.index.date)\n",
    "pivoted.iloc[:5, :5]"
   ]
  },
  {
   "cell_type": "code",
   "execution_count": null,
   "id": "68d4c5c3",
   "metadata": {},
   "outputs": [],
   "source": [
    "pivoted.plot(legend=False, alpha=0.2)"
   ]
  },
  {
   "cell_type": "code",
   "execution_count": null,
   "id": "953da918",
   "metadata": {},
   "outputs": [],
   "source": []
  }
 ],
 "metadata": {
  "kernelspec": {
   "display_name": "Python 3 (ipykernel)",
   "language": "python",
   "name": "python3"
  },
  "language_info": {
   "codemirror_mode": {
    "name": "ipython",
    "version": 3
   },
   "file_extension": ".py",
   "mimetype": "text/x-python",
   "name": "python",
   "nbconvert_exporter": "python",
   "pygments_lexer": "ipython3",
   "version": "3.9.7"
  }
 },
 "nbformat": 4,
 "nbformat_minor": 5
}
