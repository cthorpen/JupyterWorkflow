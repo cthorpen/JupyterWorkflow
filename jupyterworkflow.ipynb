{
 "cells": [
  {
   "cell_type": "markdown",
   "id": "ecaaa805",
   "metadata": {},
   "source": [
    "# Jupyer Data Science Workflow\n",
    "\n",
    "### From EDA to Reproducible Science\n",
    "\n",
    "\n",
    "Cole Thorpen\n",
    "February 28, 2024\n",
    "\n",
    "University of Washington Information School\n",
    "IMT 573"
   ]
  },
  {
   "cell_type": "code",
   "execution_count": null,
   "id": "64327f0b",
   "metadata": {},
   "outputs": [],
   "source": []
  }
 ],
 "metadata": {
  "kernelspec": {
   "display_name": "Python 3 (ipykernel)",
   "language": "python",
   "name": "python3"
  },
  "language_info": {
   "codemirror_mode": {
    "name": "ipython",
    "version": 3
   },
   "file_extension": ".py",
   "mimetype": "text/x-python",
   "name": "python",
   "nbconvert_exporter": "python",
   "pygments_lexer": "ipython3",
   "version": "3.9.7"
  }
 },
 "nbformat": 4,
 "nbformat_minor": 5
}
